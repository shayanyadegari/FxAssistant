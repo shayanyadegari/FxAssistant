{
 "cells": [
  {
   "cell_type": "code",
   "execution_count": 1,
   "id": "0f02c0df-6d68-4858-9359-fd73eebc678c",
   "metadata": {},
   "outputs": [],
   "source": [
    "from dataclasses import dataclass\n",
    "import requests\n",
    "import json\n",
    "from typing import Literal\n",
    "from urllib.parse import urlencode\n",
    "\n",
    "\n",
    "\n",
    "TwelveDataAPIKEY = \"e6944bd6321a49a6a188e0f217667ce0\"#config(\"ALPHA_VANTAGE_API_KEY\", default=None, cast=str)\n"
   ]
  },
  {
   "cell_type": "code",
   "execution_count": 7,
   "id": "02b350ee-2d4a-4850-9dbd-1675f778322c",
   "metadata": {},
   "outputs": [],
   "source": [
    "@dataclass\n",
    "class TwelveDataAPI:\n",
    "    pair_name: str = \"EUR/USD\"\n",
    "    interval: Literal[\"15min\", \"1h\", \"4h\", \"1day\", \"1week\"] = \"15min\"\n",
    "    api_key: str = \"\"\n",
    "\n",
    "    def get_api_key(self):\n",
    "        return self.api_key or TwelveDataAPIKEY\n",
    "\n",
    "    def get_params(self):\n",
    "        return {\n",
    "            \"apikey\": self.get_api_key(),\n",
    "            \"symbol\": self.pair_name,\n",
    "            \"interval\": self.interval,\n",
    "            \n",
    "        }\n",
    "\n",
    "    def generate_url(self, pass_auth=False):\n",
    "        path = \"/query\"\n",
    "        url = f\"https://api.twelvedata.com/time_series\"\n",
    "        params = self.get_params()\n",
    "        encoded_params = urlencode(params)\n",
    "        url = f\"{url}?{encoded_params}\"\n",
    "        if pass_auth:\n",
    "            api_key = self.get_api_key()\n",
    "            url += f\"&api_key={api_key}\"\n",
    "        return url\n",
    "\n",
    "    def fetch_data(self):\n",
    "        headers = {}\n",
    "        url = self.generate_url()\n",
    "        response = requests.get(url, headers=headers)\n",
    "        response.raise_for_status() # not 200/201\n",
    "        return response.json()['values']\n",
    "\n",
    "        \n",
    "\n",
    "        "
   ]
  },
  {
   "cell_type": "code",
   "execution_count": 21,
   "id": "9351792a-4b9d-4392-90cd-a6a172beb12a",
   "metadata": {},
   "outputs": [
    {
     "data": {
      "text/plain": [
       "{'datetime': '2025-04-05',\n",
       " 'open': '1.094811',\n",
       " 'high': '1.097213',\n",
       " 'low': '1.093613',\n",
       " 'close': '1.096251'}"
      ]
     },
     "execution_count": 21,
     "metadata": {},
     "output_type": "execute_result"
    }
   ],
   "source": [
    "stock_api_client = TwelveDataAPI(pair_name='EUR/USD',interval='1day')\n",
    "dataset = stock_api_client.fetch_data()[0]\n",
    "dataset"
   ]
  },
  {
   "cell_type": "code",
   "execution_count": 20,
   "id": "2b07bb55-0454-4b5d-9f37-cbba506d9c18",
   "metadata": {},
   "outputs": [
    {
     "data": {
      "text/plain": [
       "30"
      ]
     },
     "execution_count": 20,
     "metadata": {},
     "output_type": "execute_result"
    }
   ],
   "source": [
    "len(dataset)"
   ]
  },
  {
   "cell_type": "code",
   "execution_count": null,
   "id": "25545b8a-3343-4746-98f3-2c43c6b343a4",
   "metadata": {},
   "outputs": [],
   "source": [
    "# parameters that we need to put there\n",
    "\n",
    "'''\n",
    "    pair_name = models.CharField(max_length=100, null=True, blank=True)\n",
    "    open_price = models.DecimalField(max_digits=10, decimal_places=4)\n",
    "    close_price = models.DecimalField(max_digits=10, decimal_places=4)\n",
    "    high_price = models.DecimalField(max_digits=10, decimal_places=4)\n",
    "    low_price = models.DecimalField(max_digits=10, decimal_places=4)\n",
    "    datetime = models.DateTimeField(null=True, blank=True,max_length=100)\n",
    "    time_db_update = models.DateTimeField(auto_now=True, null=True, blank=True)\n",
    "'''"
   ]
  },
  {
   "cell_type": "code",
   "execution_count": 15,
   "id": "1aec7634-4607-425a-bc54-5710b0489f5f",
   "metadata": {},
   "outputs": [],
   "source": [
    "import setup\n",
    "setup.init_django()\n",
    "from django.conf import settings\n",
    "from datadigest.models import pair_1d\n",
    "from datetime import datetime\n",
    "from decimal import Decimal\n"
   ]
  },
  {
   "cell_type": "code",
   "execution_count": 19,
   "id": "df51af6b-ff36-494c-825a-c1a0ff0c5f27",
   "metadata": {},
   "outputs": [],
   "source": [
    "for record in dataset:\n",
    "    # Convert the date string to a datetime object\n",
    "    dt = datetime.strptime(record['datetime'], '%Y-%m-%d')\n",
    "    \n",
    "    # Create the model instance\n",
    "    obj = pair_1d.objects.create(\n",
    "        datetime=dt,\n",
    "        pair_name = 'EUR/USD',\n",
    "        open_price=Decimal(record['open']),\n",
    "        high_price=Decimal(record['high']),\n",
    "        low_price=Decimal(record['low']),\n",
    "        close_price=Decimal(record['close'])\n",
    "    )"
   ]
  },
  {
   "cell_type": "code",
   "execution_count": null,
   "id": "fdcdfd2b-8e4d-4de1-a040-97aec9f729c3",
   "metadata": {},
   "outputs": [],
   "source": []
  },
  {
   "cell_type": "code",
   "execution_count": null,
   "id": "508c2773-ffc3-428b-ad34-7f95e99bd329",
   "metadata": {},
   "outputs": [],
   "source": []
  },
  {
   "cell_type": "code",
   "execution_count": null,
   "id": "a6599180-2662-4813-9cc1-5d456424c20f",
   "metadata": {},
   "outputs": [],
   "source": []
  }
 ],
 "metadata": {
  "kernelspec": {
   "display_name": "Python 3 (ipykernel)",
   "language": "python",
   "name": "python3"
  },
  "language_info": {
   "codemirror_mode": {
    "name": "ipython",
    "version": 3
   },
   "file_extension": ".py",
   "mimetype": "text/x-python",
   "name": "python",
   "nbconvert_exporter": "python",
   "pygments_lexer": "ipython3",
   "version": "3.13.0"
  }
 },
 "nbformat": 4,
 "nbformat_minor": 5
}

{
 "cells": [
  {
   "cell_type": "code",
   "execution_count": 1,
   "id": "abc7c82b-affb-4805-8d7a-8762c0d66e9a",
   "metadata": {},
   "outputs": [],
   "source": [
    "import setup\n",
    "setup.init_django()"
   ]
  },
  {
   "cell_type": "code",
   "execution_count": 2,
   "id": "7990b0b7-2553-4b16-a33d-9940859d11ed",
   "metadata": {},
   "outputs": [],
   "source": [
    "from django.conf import settings\n"
   ]
  },
  {
   "cell_type": "code",
   "execution_count": 3,
   "id": "4419affe-22f0-4efb-8adc-48fb6198949f",
   "metadata": {},
   "outputs": [
    {
     "data": {
      "text/plain": [
       "WindowsPath('C:/Users/shaya/Desktop/python/django/forex_shayan/src')"
      ]
     },
     "execution_count": 3,
     "metadata": {},
     "output_type": "execute_result"
    }
   ],
   "source": [
    "settings.BASE_DIR\n"
   ]
  },
  {
   "cell_type": "code",
   "execution_count": null,
   "id": "571201f8-9388-42e1-b139-c885099eefd4",
   "metadata": {},
   "outputs": [],
   "source": []
  }
 ],
 "metadata": {
  "kernelspec": {
   "display_name": "Python 3 (ipykernel)",
   "language": "python",
   "name": "python3"
  },
  "language_info": {
   "codemirror_mode": {
    "name": "ipython",
    "version": 3
   },
   "file_extension": ".py",
   "mimetype": "text/x-python",
   "name": "python",
   "nbconvert_exporter": "python",
   "pygments_lexer": "ipython3",
   "version": "3.13.0"
  }
 },
 "nbformat": 4,
 "nbformat_minor": 5
}
